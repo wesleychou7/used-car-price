{
 "cells": [
  {
   "cell_type": "code",
   "execution_count": null,
   "id": "20a94b73",
   "metadata": {},
   "outputs": [],
   "source": [
    "def remove_nonnumeric(string):\n",
    "    \"\"\"\n",
    "    Removes all non-numeric characters from a given string.\n",
    "\n",
    "    Args:\n",
    "        string (str): A string containing both numeric and non-numeric \n",
    "        characters.\n",
    "\n",
    "    Returns:\n",
    "        str: A new string containing only the numeric characters from the \n",
    "        original string.\n",
    "    \"\"\"\n",
    "    return ''.join(c for c in string if c.isnumeric())"
   ]
  }
 ],
 "metadata": {
  "kernelspec": {
   "display_name": "Python 3 (ipykernel)",
   "language": "python",
   "name": "python3"
  },
  "language_info": {
   "codemirror_mode": {
    "name": "ipython",
    "version": 3
   },
   "file_extension": ".py",
   "mimetype": "text/x-python",
   "name": "python",
   "nbconvert_exporter": "python",
   "pygments_lexer": "ipython3",
   "version": "3.9.5"
  }
 },
 "nbformat": 4,
 "nbformat_minor": 5
}
